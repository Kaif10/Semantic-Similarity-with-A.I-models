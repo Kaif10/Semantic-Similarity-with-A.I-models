{
  "nbformat": 4,
  "nbformat_minor": 0,
  "metadata": {
    "colab": {
      "name": "PyPiSemanticSimilarity.ipynb",
      "provenance": [],
      "collapsed_sections": [],
      "include_colab_link": true
    },
    "kernelspec": {
      "name": "python3",
      "display_name": "Python 3"
    }
  },
  "cells": [
    {
      "cell_type": "markdown",
      "metadata": {
        "id": "view-in-github",
        "colab_type": "text"
      },
      "source": [
        "<a href=\"https://colab.research.google.com/github/Kaif10/Semantic-Similarity-with-A.I-models/blob/main/PyPiSemanticSimilarity.ipynb\" target=\"_parent\"><img src=\"https://colab.research.google.com/assets/colab-badge.svg\" alt=\"Open In Colab\"/></a>"
      ]
    },
    {
      "cell_type": "markdown",
      "metadata": {
        "id": "ONklcqMg_90_"
      },
      "source": [
        "."
      ]
    },
    {
      "cell_type": "markdown",
      "metadata": {
        "id": "eWlDpJ0m_9wv"
      },
      "source": [
        "Semantic-text-similarity\n",
        "an easy-to-use interface to fine-tuned BERT models for computing semantic similarity. that's it.\n",
        "\n",
        "This project contains an interface to fine-tuned, BERT-based semantic text similarity models. It modifies pytorch-transformers by abstracting away all the research benchmarking code for ease of real-world applicability."
      ]
    },
    {
      "cell_type": "markdown",
      "metadata": {
        "id": "E6j9Jq8H_9D8"
      },
      "source": [
        "With the help of these models, we can use heavy transformer-based models with just one line of code, which is really easy to implement."
      ]
    },
    {
      "cell_type": "code",
      "metadata": {
        "id": "OYz2WNf99bqN",
        "colab": {
          "base_uri": "https://localhost:8080/"
        },
        "outputId": "edb34bac-8322-44f8-874c-29ed6dfddb9b"
      },
      "source": [
        "#install the module\n",
        "!pip install semantic-text-similarity"
      ],
      "execution_count": 1,
      "outputs": [
        {
          "output_type": "stream",
          "text": [
            "Collecting semantic-text-similarity\n",
            "\u001b[?25l  Downloading https://files.pythonhosted.org/packages/f1/d7/eade8afd89103e3dcc4b4db146a134a26bd7336ba86d9a95cf0d0e3a28cb/semantic_text_similarity-1.0.3-py3-none-any.whl (416kB)\n",
            "\r\u001b[K     |▉                               | 10kB 15.8MB/s eta 0:00:01\r\u001b[K     |█▋                              | 20kB 20.6MB/s eta 0:00:01\r\u001b[K     |██▍                             | 30kB 25.9MB/s eta 0:00:01\r\u001b[K     |███▏                            | 40kB 16.3MB/s eta 0:00:01\r\u001b[K     |████                            | 51kB 14.4MB/s eta 0:00:01\r\u001b[K     |████▊                           | 61kB 10.8MB/s eta 0:00:01\r\u001b[K     |█████▌                          | 71kB 11.5MB/s eta 0:00:01\r\u001b[K     |██████▎                         | 81kB 11.1MB/s eta 0:00:01\r\u001b[K     |███████                         | 92kB 11.9MB/s eta 0:00:01\r\u001b[K     |███████▉                        | 102kB 12.9MB/s eta 0:00:01\r\u001b[K     |████████▋                       | 112kB 12.9MB/s eta 0:00:01\r\u001b[K     |█████████▌                      | 122kB 12.9MB/s eta 0:00:01\r\u001b[K     |██████████▎                     | 133kB 12.9MB/s eta 0:00:01\r\u001b[K     |███████████                     | 143kB 12.9MB/s eta 0:00:01\r\u001b[K     |███████████▉                    | 153kB 12.9MB/s eta 0:00:01\r\u001b[K     |████████████▋                   | 163kB 12.9MB/s eta 0:00:01\r\u001b[K     |█████████████▍                  | 174kB 12.9MB/s eta 0:00:01\r\u001b[K     |██████████████▏                 | 184kB 12.9MB/s eta 0:00:01\r\u001b[K     |███████████████                 | 194kB 12.9MB/s eta 0:00:01\r\u001b[K     |███████████████▊                | 204kB 12.9MB/s eta 0:00:01\r\u001b[K     |████████████████▌               | 215kB 12.9MB/s eta 0:00:01\r\u001b[K     |█████████████████▎              | 225kB 12.9MB/s eta 0:00:01\r\u001b[K     |██████████████████▏             | 235kB 12.9MB/s eta 0:00:01\r\u001b[K     |███████████████████             | 245kB 12.9MB/s eta 0:00:01\r\u001b[K     |███████████████████▊            | 256kB 12.9MB/s eta 0:00:01\r\u001b[K     |████████████████████▌           | 266kB 12.9MB/s eta 0:00:01\r\u001b[K     |█████████████████████▎          | 276kB 12.9MB/s eta 0:00:01\r\u001b[K     |██████████████████████          | 286kB 12.9MB/s eta 0:00:01\r\u001b[K     |██████████████████████▉         | 296kB 12.9MB/s eta 0:00:01\r\u001b[K     |███████████████████████▋        | 307kB 12.9MB/s eta 0:00:01\r\u001b[K     |████████████████████████▍       | 317kB 12.9MB/s eta 0:00:01\r\u001b[K     |█████████████████████████▏      | 327kB 12.9MB/s eta 0:00:01\r\u001b[K     |██████████████████████████      | 337kB 12.9MB/s eta 0:00:01\r\u001b[K     |██████████████████████████▉     | 348kB 12.9MB/s eta 0:00:01\r\u001b[K     |███████████████████████████▋    | 358kB 12.9MB/s eta 0:00:01\r\u001b[K     |████████████████████████████▍   | 368kB 12.9MB/s eta 0:00:01\r\u001b[K     |█████████████████████████████▏  | 378kB 12.9MB/s eta 0:00:01\r\u001b[K     |██████████████████████████████  | 389kB 12.9MB/s eta 0:00:01\r\u001b[K     |██████████████████████████████▊ | 399kB 12.9MB/s eta 0:00:01\r\u001b[K     |███████████████████████████████▌| 409kB 12.9MB/s eta 0:00:01\r\u001b[K     |████████████████████████████████| 419kB 12.9MB/s \n",
            "\u001b[?25hRequirement already satisfied: scipy in /usr/local/lib/python3.7/dist-packages (from semantic-text-similarity) (1.4.1)\n",
            "Requirement already satisfied: torch in /usr/local/lib/python3.7/dist-packages (from semantic-text-similarity) (1.8.1+cu101)\n",
            "Collecting pytorch-transformers==1.1.0\n",
            "\u001b[?25l  Downloading https://files.pythonhosted.org/packages/50/89/ad0d6bb932d0a51793eaabcf1617a36ff530dc9ab9e38f765a35dc293306/pytorch_transformers-1.1.0-py3-none-any.whl (158kB)\n",
            "\u001b[K     |████████████████████████████████| 163kB 20.1MB/s \n",
            "\u001b[?25hCollecting fuzzywuzzy[speedup]\n",
            "  Downloading https://files.pythonhosted.org/packages/43/ff/74f23998ad2f93b945c0309f825be92e04e0348e062026998b5eefef4c33/fuzzywuzzy-0.18.0-py2.py3-none-any.whl\n",
            "Collecting strsim\n",
            "\u001b[?25l  Downloading https://files.pythonhosted.org/packages/0d/95/14e5dea00c3bc73e5962261442957ee3691de8d51c97909ba7b2f46bf584/strsim-0.0.3-py3-none-any.whl (42kB)\n",
            "\u001b[K     |████████████████████████████████| 51kB 3.6MB/s \n",
            "\u001b[?25hRequirement already satisfied: numpy>=1.13.3 in /usr/local/lib/python3.7/dist-packages (from scipy->semantic-text-similarity) (1.19.5)\n",
            "Requirement already satisfied: typing-extensions in /usr/local/lib/python3.7/dist-packages (from torch->semantic-text-similarity) (3.7.4.3)\n",
            "Requirement already satisfied: requests in /usr/local/lib/python3.7/dist-packages (from pytorch-transformers==1.1.0->semantic-text-similarity) (2.23.0)\n",
            "Collecting boto3\n",
            "\u001b[?25l  Downloading https://files.pythonhosted.org/packages/8d/40/df7a3acc7e0916632c4cd689ccbd98f9edfcb2740b7244033442f44c658e/boto3-1.17.72-py2.py3-none-any.whl (131kB)\n",
            "\u001b[K     |████████████████████████████████| 133kB 26.5MB/s \n",
            "\u001b[?25hRequirement already satisfied: regex in /usr/local/lib/python3.7/dist-packages (from pytorch-transformers==1.1.0->semantic-text-similarity) (2019.12.20)\n",
            "Collecting sentencepiece\n",
            "\u001b[?25l  Downloading https://files.pythonhosted.org/packages/f5/99/e0808cb947ba10f575839c43e8fafc9cc44e4a7a2c8f79c60db48220a577/sentencepiece-0.1.95-cp37-cp37m-manylinux2014_x86_64.whl (1.2MB)\n",
            "\u001b[K     |████████████████████████████████| 1.2MB 19.2MB/s \n",
            "\u001b[?25hRequirement already satisfied: tqdm in /usr/local/lib/python3.7/dist-packages (from pytorch-transformers==1.1.0->semantic-text-similarity) (4.41.1)\n",
            "Collecting python-levenshtein>=0.12; extra == \"speedup\"\n",
            "\u001b[?25l  Downloading https://files.pythonhosted.org/packages/2a/dc/97f2b63ef0fa1fd78dcb7195aca577804f6b2b51e712516cc0e902a9a201/python-Levenshtein-0.12.2.tar.gz (50kB)\n",
            "\u001b[K     |████████████████████████████████| 51kB 3.7MB/s \n",
            "\u001b[?25hRequirement already satisfied: idna<3,>=2.5 in /usr/local/lib/python3.7/dist-packages (from requests->pytorch-transformers==1.1.0->semantic-text-similarity) (2.10)\n",
            "Requirement already satisfied: urllib3!=1.25.0,!=1.25.1,<1.26,>=1.21.1 in /usr/local/lib/python3.7/dist-packages (from requests->pytorch-transformers==1.1.0->semantic-text-similarity) (1.24.3)\n",
            "Requirement already satisfied: chardet<4,>=3.0.2 in /usr/local/lib/python3.7/dist-packages (from requests->pytorch-transformers==1.1.0->semantic-text-similarity) (3.0.4)\n",
            "Requirement already satisfied: certifi>=2017.4.17 in /usr/local/lib/python3.7/dist-packages (from requests->pytorch-transformers==1.1.0->semantic-text-similarity) (2020.12.5)\n",
            "Collecting botocore<1.21.0,>=1.20.72\n",
            "\u001b[?25l  Downloading https://files.pythonhosted.org/packages/54/e7/9572f20a7eabaaf1b289d1647c388dc165831478b156902539f310f08f02/botocore-1.20.72-py2.py3-none-any.whl (7.5MB)\n",
            "\u001b[K     |████████████████████████████████| 7.5MB 51.6MB/s \n",
            "\u001b[?25hCollecting s3transfer<0.5.0,>=0.4.0\n",
            "\u001b[?25l  Downloading https://files.pythonhosted.org/packages/63/d0/693477c688348654ddc21dcdce0817653a294aa43f41771084c25e7ff9c7/s3transfer-0.4.2-py2.py3-none-any.whl (79kB)\n",
            "\u001b[K     |████████████████████████████████| 81kB 5.6MB/s \n",
            "\u001b[?25hCollecting jmespath<1.0.0,>=0.7.1\n",
            "  Downloading https://files.pythonhosted.org/packages/07/cb/5f001272b6faeb23c1c9e0acc04d48eaaf5c862c17709d20e3469c6e0139/jmespath-0.10.0-py2.py3-none-any.whl\n",
            "Requirement already satisfied: setuptools in /usr/local/lib/python3.7/dist-packages (from python-levenshtein>=0.12; extra == \"speedup\"->fuzzywuzzy[speedup]->semantic-text-similarity) (56.1.0)\n",
            "Requirement already satisfied: python-dateutil<3.0.0,>=2.1 in /usr/local/lib/python3.7/dist-packages (from botocore<1.21.0,>=1.20.72->boto3->pytorch-transformers==1.1.0->semantic-text-similarity) (2.8.1)\n",
            "Requirement already satisfied: six>=1.5 in /usr/local/lib/python3.7/dist-packages (from python-dateutil<3.0.0,>=2.1->botocore<1.21.0,>=1.20.72->boto3->pytorch-transformers==1.1.0->semantic-text-similarity) (1.15.0)\n",
            "Building wheels for collected packages: python-levenshtein\n",
            "  Building wheel for python-levenshtein (setup.py) ... \u001b[?25l\u001b[?25hdone\n",
            "  Created wheel for python-levenshtein: filename=python_Levenshtein-0.12.2-cp37-cp37m-linux_x86_64.whl size=149812 sha256=a05ba5addb21dc1f654ff6a139848a1d9145cd614803c1b4c3f10f6dd5cd26e3\n",
            "  Stored in directory: /root/.cache/pip/wheels/b3/26/73/4b48503bac73f01cf18e52cd250947049a7f339e940c5df8fc\n",
            "Successfully built python-levenshtein\n",
            "\u001b[31mERROR: botocore 1.20.72 has requirement urllib3<1.27,>=1.25.4, but you'll have urllib3 1.24.3 which is incompatible.\u001b[0m\n",
            "Installing collected packages: jmespath, botocore, s3transfer, boto3, sentencepiece, pytorch-transformers, python-levenshtein, fuzzywuzzy, strsim, semantic-text-similarity\n",
            "Successfully installed boto3-1.17.72 botocore-1.20.72 fuzzywuzzy-0.18.0 jmespath-0.10.0 python-levenshtein-0.12.2 pytorch-transformers-1.1.0 s3transfer-0.4.2 semantic-text-similarity-1.0.3 sentencepiece-0.1.95 strsim-0.0.3\n"
          ],
          "name": "stdout"
        }
      ]
    },
    {
      "cell_type": "markdown",
      "metadata": {
        "id": "i40nu_T4-YeE"
      },
      "source": [
        "."
      ]
    },
    {
      "cell_type": "markdown",
      "metadata": {
        "id": "FbYvLgif-YFt"
      },
      "source": [
        "We have to different BERT models.\n",
        "\n",
        "1. ClinicalBertSimilarity: Trained on Medical Data (MED-STS).\n",
        "\n",
        "2. WebBertSimilarity: Trained on STS-B Dataset (Benchmark)."
      ]
    },
    {
      "cell_type": "code",
      "metadata": {
        "id": "-8bkc_8q9blR",
        "colab": {
          "base_uri": "https://localhost:8080/"
        },
        "outputId": "51e19178-738a-4ecd-a738-35b371f98e7e"
      },
      "source": [
        "from semantic_text_similarity.models import WebBertSimilarity\n",
        "from semantic_text_similarity.models import ClinicalBertSimilarity\n",
        "\n",
        "web_model = WebBertSimilarity(device='cpu', batch_size=10) #defaults to GPU prediction\n",
        "\n",
        "clinical_model = ClinicalBertSimilarity(device='cpu', batch_size=10) #defaults to GPU prediction\n"
      ],
      "execution_count": 2,
      "outputs": [
        {
          "output_type": "stream",
          "text": [
            "Downloading model: web-bert-similarity from https://github.com/AndriyMulyar/semantic-text-similarity/releases/download/v1.0.0/web_bert_similarity.tar.gz\n"
          ],
          "name": "stdout"
        },
        {
          "output_type": "stream",
          "text": [
            "100%|██████████| 405359924/405359924 [00:08<00:00, 45951147.50B/s]\n"
          ],
          "name": "stderr"
        },
        {
          "output_type": "stream",
          "text": [
            "Downloading model: clinical-bert-similarity from https://github.com/AndriyMulyar/semantic-text-similarity/releases/download/v1.0.0/clinical_bert_similarity.tar.gz\n"
          ],
          "name": "stdout"
        },
        {
          "output_type": "stream",
          "text": [
            "100%|██████████| 401555686/401555686 [00:08<00:00, 45682709.36B/s]\n"
          ],
          "name": "stderr"
        }
      ]
    },
    {
      "cell_type": "markdown",
      "metadata": {
        "id": "knjhDeDP_M7B"
      },
      "source": [
        "### Now we will put pairs of sentences in the model to predict the similarity between them."
      ]
    },
    {
      "cell_type": "markdown",
      "metadata": {
        "id": "zueWNmbbANEc"
      },
      "source": [
        "### Maps batches of sentence pairs to real-valued scores in the range [0,5] on basis of how similar they are."
      ]
    },
    {
      "cell_type": "code",
      "metadata": {
        "colab": {
          "base_uri": "https://localhost:8080/"
        },
        "id": "umK4VCIOCqnM",
        "outputId": "2d5176a3-e63d-4843-ecac-d6c389133749"
      },
      "source": [
        "web_model.predict([(\"I am very happy\",\n",
        "                         \"I am happy.\")])"
      ],
      "execution_count": 3,
      "outputs": [
        {
          "output_type": "execute_result",
          "data": {
            "text/plain": [
              "array([4.2339], dtype=float32)"
            ]
          },
          "metadata": {
            "tags": []
          },
          "execution_count": 3
        }
      ]
    },
    {
      "cell_type": "code",
      "metadata": {
        "colab": {
          "base_uri": "https://localhost:8080/"
        },
        "id": "UhYHg1ejCu3t",
        "outputId": "7509c4f0-c7f7-434d-dc83-fdf557885438"
      },
      "source": [
        "clinical_model.predict([(\"I am very happy\",\n",
        "                         \"I am happy.\")])"
      ],
      "execution_count": 4,
      "outputs": [
        {
          "output_type": "execute_result",
          "data": {
            "text/plain": [
              "array([4.760078], dtype=float32)"
            ]
          },
          "metadata": {
            "tags": []
          },
          "execution_count": 4
        }
      ]
    },
    {
      "cell_type": "code",
      "metadata": {
        "id": "IsxiIeyYAz_2",
        "colab": {
          "base_uri": "https://localhost:8080/"
        },
        "outputId": "b6b3efe2-68d2-427d-b0a2-74810669146e"
      },
      "source": [
        "web_model.predict([(\"Machine learning is an application of artificial intelligence that provides systems the ability to automatically learn and improve from experience without being explicitly programmed. Machine learning focuses on the development of computer programs that can access data and use it learn for themselves.\",\n",
        "                    \"It is the scientific study of algorithms and statistical models that computer systems use to perform a specific task without using explicit instructions, relying on patterns and inference instead. It is seen as a subset of artificial intelligence. \")])"
      ],
      "execution_count": 5,
      "outputs": [
        {
          "output_type": "execute_result",
          "data": {
            "text/plain": [
              "array([2.7351084], dtype=float32)"
            ]
          },
          "metadata": {
            "tags": []
          },
          "execution_count": 5
        }
      ]
    },
    {
      "cell_type": "code",
      "metadata": {
        "id": "dObs29lHDSZy",
        "colab": {
          "base_uri": "https://localhost:8080/"
        },
        "outputId": "b1b38177-2027-4a71-98d0-fce6f2d4c19e"
      },
      "source": [
        "clinical_model.predict([(\"Machine learning is an application of artificial intelligence that provides systems the ability to automatically learn and improve from experience without being explicitly programmed. Machine learning focuses on the development of computer programs that can access data and use it learn for themselves.\",\n",
        "                    \"It is the scientific study of algorithms and statistical models that computer systems use to perform a specific task without using explicit instructions, relying on patterns and inference instead. It is seen as a subset of artificial intelligence. \")])"
      ],
      "execution_count": 6,
      "outputs": [
        {
          "output_type": "execute_result",
          "data": {
            "text/plain": [
              "array([2.490342], dtype=float32)"
            ]
          },
          "metadata": {
            "tags": []
          },
          "execution_count": 6
        }
      ]
    },
    {
      "cell_type": "code",
      "metadata": {
        "id": "VbHj0B2OAut0",
        "colab": {
          "base_uri": "https://localhost:8080/"
        },
        "outputId": "07fa806a-19b4-4a83-a50f-198db2276333"
      },
      "source": [
        "web_model.predict([(\"Machine learning is an application of artificial intelligence that provides systems the ability to automatically learn and improve from experience without being explicitly programmed. Machine learning focuses on the development of computer programs that can access data and use it learn for themselves.\",\n",
        "                    \"Machine Learning is a field in which we learn how machine works, about it's algorithm and data structure, how we can improve it's performance.\")])"
      ],
      "execution_count": 7,
      "outputs": [
        {
          "output_type": "execute_result",
          "data": {
            "text/plain": [
              "array([3.2559884], dtype=float32)"
            ]
          },
          "metadata": {
            "tags": []
          },
          "execution_count": 7
        }
      ]
    },
    {
      "cell_type": "code",
      "metadata": {
        "id": "b_AvzjlJDjE2",
        "colab": {
          "base_uri": "https://localhost:8080/"
        },
        "outputId": "4097f95f-019d-4edf-eb7b-a8047eec5931"
      },
      "source": [
        "clinical_model.predict([(\"Machine learning is an application of artificial intelligence that provides systems the ability to automatically learn and improve from experience without being explicitly programmed. Machine learning focuses on the development of computer programs that can access data and use it learn for themselves.\",\n",
        "                    \"Machine Learning is a field in which we learn how machine works, about it's algorithm and data structure, how we can improve it's performance.\")])"
      ],
      "execution_count": 8,
      "outputs": [
        {
          "output_type": "execute_result",
          "data": {
            "text/plain": [
              "array([2.4947174], dtype=float32)"
            ]
          },
          "metadata": {
            "tags": []
          },
          "execution_count": 8
        }
      ]
    },
    {
      "cell_type": "code",
      "metadata": {
        "id": "pqmxfc2K9bod",
        "colab": {
          "base_uri": "https://localhost:8080/"
        },
        "outputId": "b0774127-2886-4f71-f262-52d27c9c373c"
      },
      "source": [
        "web_model.predict([(\"Machine learning is an application of artificial intelligence that provides systems the ability to automatically learn and improve from experience without being explicitly programmed. Machine learning focuses on the development of computer programs that can access data and use it learn for themselves.\",\n",
        "                         \"Machine learning is the ability to learn itself from past experiences and without being explicitely programmed and it tries to work like human brain.\")])"
      ],
      "execution_count": 9,
      "outputs": [
        {
          "output_type": "execute_result",
          "data": {
            "text/plain": [
              "array([3.4375365], dtype=float32)"
            ]
          },
          "metadata": {
            "tags": []
          },
          "execution_count": 9
        }
      ]
    },
    {
      "cell_type": "code",
      "metadata": {
        "id": "j-ll0Qbo9bkR",
        "colab": {
          "base_uri": "https://localhost:8080/"
        },
        "outputId": "d30d7d3f-cf65-47fc-e60c-6eed9f23c5ed"
      },
      "source": [
        "clinical_model.predict([(\"Machine learning is an application of artificial intelligence that provides systems the ability to automatically learn and improve from experience without being explicitly programmed. Machine learning focuses on the development of computer programs that can access data and use it learn for themselves.\",\n",
        "                         \"Machine learning is the ability to learn itself from past experiences and without being explicitely programmed and it tries to work like human brain.\")])"
      ],
      "execution_count": 10,
      "outputs": [
        {
          "output_type": "execute_result",
          "data": {
            "text/plain": [
              "array([2.6780083], dtype=float32)"
            ]
          },
          "metadata": {
            "tags": []
          },
          "execution_count": 10
        }
      ]
    },
    {
      "cell_type": "code",
      "metadata": {
        "id": "KBAWpdWOESIY",
        "colab": {
          "base_uri": "https://localhost:8080/"
        },
        "outputId": "04c5b9e0-fc46-49b2-9c66-50853086e7bd"
      },
      "source": [
        "web_model.predict([(\"She got hurt in her arm.\",\"arm deal was held at his place.\")])"
      ],
      "execution_count": 11,
      "outputs": [
        {
          "output_type": "execute_result",
          "data": {
            "text/plain": [
              "array([0.43805814], dtype=float32)"
            ]
          },
          "metadata": {
            "tags": []
          },
          "execution_count": 11
        }
      ]
    },
    {
      "cell_type": "code",
      "metadata": {
        "id": "9QFKHCvpKzON",
        "colab": {
          "base_uri": "https://localhost:8080/"
        },
        "outputId": "ea733679-3a85-4090-d880-17e233ef2b0d"
      },
      "source": [
        "clinical_model.predict([('I am a Machine Learning enthusiast and I want to make a career in Artificial Intelligence.',\n",
        "                    'We can achieve the dream of creating an Artificial Intelligence system through Machine Learning.')])"
      ],
      "execution_count": 12,
      "outputs": [
        {
          "output_type": "execute_result",
          "data": {
            "text/plain": [
              "array([3.2731051], dtype=float32)"
            ]
          },
          "metadata": {
            "tags": []
          },
          "execution_count": 12
        }
      ]
    },
    {
      "cell_type": "code",
      "metadata": {
        "id": "BN2mHQC8fqt5",
        "colab": {
          "base_uri": "https://localhost:8080/"
        },
        "outputId": "495e93e3-08ee-4d55-f0cd-898ca8bcac2d"
      },
      "source": [
        "clinical_model.predict([('I am a Machine Learning enthusiast and I want to make a career in Artificial Intelligence.',\n",
        "                    'I want to make a career in Machine Learning')])"
      ],
      "execution_count": 13,
      "outputs": [
        {
          "output_type": "execute_result",
          "data": {
            "text/plain": [
              "array([3.246738], dtype=float32)"
            ]
          },
          "metadata": {
            "tags": []
          },
          "execution_count": 13
        }
      ]
    },
    {
      "cell_type": "markdown",
      "metadata": {
        "id": "5GWY_z9lD4Dy"
      },
      "source": [
        "."
      ]
    },
    {
      "cell_type": "markdown",
      "metadata": {
        "id": "AExrb-dLD4NW"
      },
      "source": [
        "### Find difference between values given by both the models on same pair of sentences."
      ]
    },
    {
      "cell_type": "code",
      "metadata": {
        "id": "l0SBfZGCiqrw",
        "colab": {
          "base_uri": "https://localhost:8080/"
        },
        "outputId": "77120074-17b3-42e5-b7d5-0914d24409b2"
      },
      "source": [
        "float(clinical_model.predict([('Joe and Alexandria both eat dates everyday.',\n",
        "                    'Joe took Alexandria out on a date.')])) -  float(web_model.predict([('Joe and Alexandria both eat dates everyday.',\n",
        "                    'Joe took Alexandria out on a date.')]))"
      ],
      "execution_count": 14,
      "outputs": [
        {
          "output_type": "execute_result",
          "data": {
            "text/plain": [
              "0.48445820808410645"
            ]
          },
          "metadata": {
            "tags": []
          },
          "execution_count": 14
        }
      ]
    },
    {
      "cell_type": "code",
      "metadata": {
        "id": "cLw7nLCD56BM",
        "colab": {
          "base_uri": "https://localhost:8080/"
        },
        "outputId": "1b7de8a2-df16-4b4a-96d3-ff6b1c7694e1"
      },
      "source": [
        "float(clinical_model.predict([('I am very busy today. I have a meeting at 8:00 am, football match at 5:00 pm and then I have a lot of homework to do after that.',\n",
        "                    'I do not have any free time today because I will be busy in a meeting, after which I have a match and then I have some assignments to do.')]))- float(web_model.predict([('I am very busy today. I have a meeting at 8:00 am, football match at 5:00 pm and then I have a lot of homework to do after that.',\n",
        "                    'I do not have any free time today because I will be busy in a meeting, after which I have a match and then I have some assignments to do.')]))"
      ],
      "execution_count": 15,
      "outputs": [
        {
          "output_type": "execute_result",
          "data": {
            "text/plain": [
              "0.22674179077148438"
            ]
          },
          "metadata": {
            "tags": []
          },
          "execution_count": 15
        }
      ]
    },
    {
      "cell_type": "code",
      "metadata": {
        "id": "Cc2bSROcBs2Z",
        "colab": {
          "base_uri": "https://localhost:8080/"
        },
        "outputId": "8d0caaec-d240-4d84-8cf5-e9accb8bb3d9"
      },
      "source": [
        "abs(float(clinical_model.predict([('You are  always right about the game predictions.',\n",
        "                    'You rightly predicted the match scores.')])) -  float(web_model.predict([('You are  always right about the game predictions.',\n",
        "                    'You rightly predicted the match scores.')])))"
      ],
      "execution_count": 16,
      "outputs": [
        {
          "output_type": "execute_result",
          "data": {
            "text/plain": [
              "0.008827447891235352"
            ]
          },
          "metadata": {
            "tags": []
          },
          "execution_count": 16
        }
      ]
    },
    {
      "cell_type": "code",
      "metadata": {
        "id": "TetlIqx2RrgU",
        "colab": {
          "base_uri": "https://localhost:8080/"
        },
        "outputId": "a0633b49-783a-4155-e222-4048141a4561"
      },
      "source": [
        "abs(float(clinical_model.predict([('That guy lives in a cell.',\n",
        "                    'A human body has millions of cells in it.')])) -  float(web_model.predict([('That guy lives in a cell.',\n",
        "                    'A human body has millions of cells in it.')])))"
      ],
      "execution_count": 17,
      "outputs": [
        {
          "output_type": "execute_result",
          "data": {
            "text/plain": [
              "1.216866374015808"
            ]
          },
          "metadata": {
            "tags": []
          },
          "execution_count": 17
        }
      ]
    },
    {
      "cell_type": "code",
      "metadata": {
        "id": "7tt_SQRHRrcu",
        "colab": {
          "base_uri": "https://localhost:8080/"
        },
        "outputId": "fece2f65-04c9-473d-e834-02c793ee8ef7"
      },
      "source": [
        "abs(float(clinical_model.predict([('She rose from the bed.',\n",
        "                    'Rose is her favourite flower.')])) -  float(web_model.predict([('She rose from the bed.',\n",
        "                    'Rose is her favourite flower.')])))"
      ],
      "execution_count": 18,
      "outputs": [
        {
          "output_type": "execute_result",
          "data": {
            "text/plain": [
              "1.3749998807907104"
            ]
          },
          "metadata": {
            "tags": []
          },
          "execution_count": 18
        }
      ]
    },
    {
      "cell_type": "markdown",
      "metadata": {
        "id": "cnubfPWDHduh"
      },
      "source": [
        "Use GPUs for fast results"
      ]
    }
  ]
}