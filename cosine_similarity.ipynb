{
  "nbformat": 4,
  "nbformat_minor": 0,
  "metadata": {
    "colab": {
      "name": "cosine similarity.ipynb",
      "provenance": [],
      "collapsed_sections": []
    },
    "kernelspec": {
      "name": "python3",
      "display_name": "Python 3"
    }
  },
  "cells": [
    {
      "cell_type": "markdown",
      "metadata": {
        "id": "1PDa6enGN_pZ"
      },
      "source": [
        "# Cosine distance with word embedding method for finding similarity between texts."
      ]
    },
    {
      "cell_type": "markdown",
      "metadata": {
        "id": "0fViY7EyON3g"
      },
      "source": [
        "Using a pre-trained glove file"
      ]
    },
    {
      "cell_type": "code",
      "metadata": {
        "id": "oh4J7gx5iZ0H"
      },
      "source": [
        "#glove.6B.50d.txt is a file that consists of all words in english vocabulary clouded in high dimensional space with similar meaning words close \n",
        "#to each other\n",
        "gloveFile = \"glove.6B.50d.txt\"\n",
        "import numpy as np\n",
        "def loadGloveModel(gloveFile):\n",
        "    print (\"Loading Glove Model\")\n",
        "    with open(gloveFile, encoding=\"utf8\" ) as f:\n",
        "        content = f.readlines()\n",
        "    model = {}\n",
        "    for line in content:\n",
        "        splitLine = line.split()\n",
        "        word = splitLine[0]\n",
        "        embedding = np.array([float(val) for val in splitLine[1:]])\n",
        "        model[word] = embedding\n",
        "    print (\"Done.\",len(model),\" words loaded!\")\n",
        "    print(line)\n",
        "    return model\n"
      ],
      "execution_count": 9,
      "outputs": []
    },
    {
      "cell_type": "code",
      "metadata": {
        "id": "5aP3X0BKM8rn",
        "colab": {
          "base_uri": "https://localhost:8080/"
        },
        "outputId": "3af9d863-fd0a-417b-bc0f-5b3d3dd332f2"
      },
      "source": [
        "import nltk\n",
        "nltk.download('stopwords')\n",
        "import re\n",
        "from nltk.corpus import stopwords\n",
        "import pandas as pd\n",
        "\n",
        "def preprocess(raw_text):\n",
        "\n",
        "    # keep only words\n",
        "    letters_only_text = re.sub(\"[^a-zA-Z]\", \" \", raw_text)\n",
        "\n",
        "    # convert to lower case and split \n",
        "    words = letters_only_text.lower().split()\n",
        "\n",
        "    # remove stopwords\n",
        "    stopword_set = set(stopwords.words(\"english\"))\n",
        "    cleaned_words = list(set([w for w in words if w not in stopword_set]))\n",
        "\n",
        "    return cleaned_words"
      ],
      "execution_count": 10,
      "outputs": [
        {
          "output_type": "stream",
          "name": "stderr",
          "text": [
            "[nltk_data] Downloading package stopwords to /root/nltk_data...\n",
            "[nltk_data]   Package stopwords is already up-to-date!\n"
          ]
        }
      ]
    },
    {
      "cell_type": "markdown",
      "metadata": {
        "id": "xqhjlqxSLIRK"
      },
      "source": [
        "# Model is a dictionary that consists of words as keys and their corresponding  high dimensional vectors as the values"
      ]
    },
    {
      "cell_type": "code",
      "metadata": {
        "id": "48iH4ZqLii-h"
      },
      "source": [
        "def cosine_distance_between_two_words(word1, word2):\n",
        "    import scipy\n",
        "    return (1- scipy.spatial.distance.cosine(model[word1], model[word2]))\n",
        "def calculate_heat_matrix_for_two_sentences(s1,s2):\n",
        "    s1 = preprocess(s1)\n",
        "    s2 = preprocess(s2)\n",
        "    result_list = [[cosine_distance_between_two_words(word1, word2) for word2 in s2] for word1 in s1]\n",
        "    result_df = pd.DataFrame(result_list)\n",
        "    result_df.columns = s2\n",
        "    result_df.index = s1\n",
        "    return result_df\n",
        "\n",
        "# cosine distance with word embedding function for finding similarity between two text.\n",
        "def cosine_distance_wordembedding_method(s1, s2):\n",
        "    import scipy\n",
        "    vector_1 = np.mean([model[word] for word in preprocess(s1)],axis=0)\n",
        "    vector_2 = np.mean([model[word] for word in preprocess(s2)],axis=0)\n",
        "    cosine = scipy.spatial.distance.cosine(vector_1, vector_2)\n",
        "    print('Word Embedding method with a cosine distance assess that our two sentences are similar to', round((1-cosine)*100,2),'%')\n",
        "\n",
        "def heat_map_matrix_between_two_sentences(s1,s2):\n",
        "    df = calculate_heat_matrix_for_two_sentences(s1,s2)\n",
        "    import seaborn as sns\n",
        "    import matplotlib.pyplot as plt\n",
        "    fig, ax = plt.subplots(figsize=(5,5)) \n",
        "    ax_blue = sns.heatmap(df, cmap=\"YlGnBu\")\n",
        "    # ax_red = sns.heatmap(df)\n",
        "    print(cosine_distance_wordembedding_method(s1, s2))\n",
        "    return ax_blue\n"
      ],
      "execution_count": 11,
      "outputs": []
    },
    {
      "cell_type": "code",
      "metadata": {
        "id": "Uz3fhnLDHbBt",
        "colab": {
          "base_uri": "https://localhost:8080/",
          "height": 444
        },
        "outputId": "ede2d20e-12d7-4549-86e1-1818a9173568"
      },
      "source": [
        "ss1 = 'Messi is the best player.'\n",
        "ss2 = 'That guy completely played you out.'\n",
        "model = loadGloveModel(gloveFile)\n",
        "heat_map_matrix_between_two_sentences(ss1,ss2)\n",
        "#only 72% similarity as the sentences aren't similar"
      ],
      "execution_count": 12,
      "outputs": [
        {
          "output_type": "stream",
          "name": "stdout",
          "text": [
            "Loading Glove Model\n",
            "Done. 54010  words loaded!\n",
            "gabby 0.13487 -0.035922 0.017359 -0.90928 0.25475 0.1447 -0.21332 0.16977 -0.41925 0.26584 0.39144 0.5238 0.081097 -0.28697 0.35299 -0.11286 0.24431 0.70801 0.46166 0.31647 -0.6272 0.19544 -0.25661 0.46746 0.31881 0.40607 0.3644 0.69139 0.29472 -0.74204 -0.9342 0.80997 0.43294 -0.058762 0.087757 0.84853 0.13062 -0.30\n",
            "Word Embedding method with a cosine distance assess that our two sentences are similar to 72.32 %\n",
            "None\n"
          ]
        },
        {
          "output_type": "execute_result",
          "data": {
            "text/plain": [
              "<matplotlib.axes._subplots.AxesSubplot at 0x7fa610efa850>"
            ]
          },
          "metadata": {},
          "execution_count": 12
        },
        {
          "output_type": "display_data",
          "data": {
            "text/plain": [
              "<Figure size 360x360 with 2 Axes>"
            ],
            "image/png": "[encoded data removed]"
          },
          "metadata": {
            "needs_background": "light"
          }
        }
      ]
    },
    {
      "cell_type": "code",
      "metadata": {
        "id": "NnmbRz6ZK-HG",
        "colab": {
          "base_uri": "https://localhost:8080/",
          "height": 448
        },
        "outputId": "dc438546-0929-405f-8665-6f37d8900d4a"
      },
      "source": [
        "ss1 = 'Does amazon carrier/delivery man know what is inside the box?'\n",
        "ss2 = 'How much should I tip Amazon carrier/delivery man?'\n",
        "model = loadGloveModel(gloveFile)\n",
        "heat_map_matrix_between_two_sentences(ss1,ss2)\n",
        "#Output = 90.42 %"
      ],
      "execution_count": 19,
      "outputs": [
        {
          "output_type": "stream",
          "name": "stdout",
          "text": [
            "Loading Glove Model\n",
            "Done. 63843  words loaded!\n",
            "empirically 0.98105 -0.97439 0.37746 -0.82669 0.026666 0.66608 0.32043 -0.53875 0.22604 0.94651 1.5533 0.0023154 0.096876 -0.39341 -0.24477 0.39355 0.61739 0.16815 -0.088841 -0.23093 -1.0161 -0.21387 0.9987\n",
            "Word Embedding method with a cosine distance assess that our two sentences are similar to 95.94 %\n",
            "None\n"
          ]
        },
        {
          "output_type": "execute_result",
          "data": {
            "text/plain": [
              "<matplotlib.axes._subplots.AxesSubplot at 0x7fa6099abc50>"
            ]
          },
          "metadata": {},
          "execution_count": 19
        },
        {
          "output_type": "display_data",
          "data": {
            "text/plain": [
              "<Figure size 360x360 with 2 Axes>"
            ],
            "image/png": "[encoded data removed]"
          },
          "metadata": {
            "needs_background": "light"
          }
        }
      ]
    },
    {
      "cell_type": "code",
      "metadata": {
        "id": "D2Z5jy2IK-JS",
        "colab": {
          "base_uri": "https://localhost:8080/",
          "height": 496
        },
        "outputId": "fb154706-5182-4086-f10e-a5010440cd68"
      },
      "source": [
        "#I tried a bit of repition here\n",
        "ss1 = 'Machine learning, Deep learning and  Machine learning is the best way to do Artificial Intelligence.'\n",
        "ss2 = 'Artificial Intelligence will solve a lot of our problems.'\n",
        "model = loadGloveModel(gloveFile)\n",
        "heat_map_matrix_between_two_sentences(ss1,ss2)\n",
        "#output = 90.02 %"
      ],
      "execution_count": 15,
      "outputs": [
        {
          "output_type": "stream",
          "name": "stdout",
          "text": [
            "Loading Glove Model\n",
            "Done. 58927  words loaded!\n",
            "baguette 0.57081 -1.0739 -0.39806 -0.94909 0.95599 0.39809 0.4298 -0.37768 -1.0289 -0.28072 -0.017691 -0.46701 -0.094709 0.585 0.098882 -0.92715 -0.32\n",
            "Word Embedding method with a cosine distance assess that our two sentences are similar to 90.02 %\n",
            "None\n"
          ]
        },
        {
          "output_type": "execute_result",
          "data": {
            "text/plain": [
              "<matplotlib.axes._subplots.AxesSubplot at 0x7fa609e962d0>"
            ]
          },
          "metadata": {},
          "execution_count": 15
        },
        {
          "output_type": "display_data",
          "data": {
            "text/plain": [
              "<Figure size 360x360 with 2 Axes>"
            ],
            "image/png": "[encoded data removed]"
          },
          "metadata": {
            "needs_background": "light"
          }
        }
      ]
    },
    {
      "cell_type": "code",
      "metadata": {
        "id": "MHEY9wO0K-Mk",
        "colab": {
          "base_uri": "https://localhost:8080/",
          "height": 424
        },
        "outputId": "50fd9cec-8d81-4c61-ba92-5644fac410e2"
      },
      "source": [
        "ss1 = 'He is a really mean person and I dislike him a lot.'\n",
        "ss2 = 'She is not a good woman and is not liked by anyone.'\n",
        "model = loadGloveModel(gloveFile)\n",
        "heat_map_matrix_between_two_sentences(ss1,ss2)\n",
        "#output =  92.47 %"
      ],
      "execution_count": 23,
      "outputs": [
        {
          "output_type": "stream",
          "name": "stdout",
          "text": [
            "Loading Glove Model\n",
            "Done. 73680  words loaded!\n",
            "dickensian 0.45321 -0.16606 -1.1177 -0.75499 0.28278 0.14229 0.57678 -0.42942 0.12221 0.829\n",
            "Word Embedding method with a cosine distance assess that our two sentences are similar to 92.47 %\n",
            "None\n"
          ]
        },
        {
          "output_type": "execute_result",
          "data": {
            "text/plain": [
              "<matplotlib.axes._subplots.AxesSubplot at 0x7fa60915b990>"
            ]
          },
          "metadata": {},
          "execution_count": 23
        },
        {
          "output_type": "display_data",
          "data": {
            "text/plain": [
              "<Figure size 360x360 with 2 Axes>"
            ],
            "image/png": "[encoded data removed]"
          },
          "metadata": {
            "needs_background": "light"
          }
        }
      ]
    }
  ]
}